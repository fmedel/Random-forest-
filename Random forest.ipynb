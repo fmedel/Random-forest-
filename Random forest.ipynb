{
 "cells": [
  {
   "cell_type": "code",
   "execution_count": 1,
   "metadata": {},
   "outputs": [
    {
     "name": "stderr",
     "output_type": "stream",
     "text": [
      "/opt/conda/lib/python3.6/site-packages/sklearn/cross_validation.py:44: DeprecationWarning: This module was deprecated in version 0.18 in favor of the model_selection module into which all the refactored classes and functions are moved. Also note that the interface of the new CV iterators are different from that of this module. This module will be removed in 0.20.\n",
      "  \"This module will be removed in 0.20.\", DeprecationWarning)\n"
     ]
    }
   ],
   "source": [
    "#Primero hay que llamar a unas librerías que el programa necesitará.\n",
    "from pandas import Series, DataFrame\n",
    "import pandas as pd\n",
    "import numpy as np\n",
    "import os\n",
    "import matplotlib.pylab as plt\n",
    "from sklearn.cross_validation import train_test_split\n",
    "from sklearn.tree import DecisionTreeClassifier\n",
    "from sklearn.metrics import classification_report\n",
    "import sklearn.metrics\n",
    "from sklearn import datasets\n",
    "from sklearn.ensemble import ExtraTreesClassifier"
   ]
  },
  {
   "cell_type": "code",
   "execution_count": 2,
   "metadata": {},
   "outputs": [],
   "source": [
    "#Cargamos el fichero de datos. Formato en Excel, csv.\n",
    "AH_data = pd.read_csv(\"dia1.csv\")"
   ]
  },
  {
   "cell_type": "code",
   "execution_count": 3,
   "metadata": {},
   "outputs": [],
   "source": [
    "AH_data.drop('Tipo de Suelo', axis=1, inplace=True)\n",
    "AH_data.drop('Análisis', axis=1, inplace=True)"
   ]
  },
  {
   "cell_type": "code",
   "execution_count": 4,
   "metadata": {},
   "outputs": [
    {
     "data": {
      "text/html": [
       "<div>\n",
       "<table border=\"1\" class=\"dataframe\">\n",
       "  <thead>\n",
       "    <tr style=\"text-align: right;\">\n",
       "      <th></th>\n",
       "      <th>T° Ambiental (°C) BRUTO</th>\n",
       "      <th>Velocidad del viento (KM/H)</th>\n",
       "      <th>T° Ambiental (°C)</th>\n",
       "      <th>Valor de tipo de suelo</th>\n",
       "      <th>PH Agua</th>\n",
       "      <th>PH Suelo</th>\n",
       "      <th>Humedad Suelo (%)</th>\n",
       "      <th>Humedad Suelo Deseada (%)</th>\n",
       "      <th>T° Suelo (°C)</th>\n",
       "      <th>T° Suelo Deseada (°C)</th>\n",
       "      <th>Análisis valor</th>\n",
       "    </tr>\n",
       "  </thead>\n",
       "  <tbody>\n",
       "    <tr>\n",
       "      <th>0</th>\n",
       "      <td>39</td>\n",
       "      <td>62</td>\n",
       "      <td>15</td>\n",
       "      <td>1</td>\n",
       "      <td>14</td>\n",
       "      <td>3</td>\n",
       "      <td>19</td>\n",
       "      <td>45</td>\n",
       "      <td>15</td>\n",
       "      <td>15</td>\n",
       "      <td>0</td>\n",
       "    </tr>\n",
       "    <tr>\n",
       "      <th>1</th>\n",
       "      <td>16</td>\n",
       "      <td>62</td>\n",
       "      <td>7</td>\n",
       "      <td>2</td>\n",
       "      <td>9</td>\n",
       "      <td>8</td>\n",
       "      <td>36</td>\n",
       "      <td>50</td>\n",
       "      <td>7</td>\n",
       "      <td>23</td>\n",
       "      <td>1</td>\n",
       "    </tr>\n",
       "    <tr>\n",
       "      <th>2</th>\n",
       "      <td>24</td>\n",
       "      <td>18</td>\n",
       "      <td>17</td>\n",
       "      <td>1</td>\n",
       "      <td>13</td>\n",
       "      <td>10</td>\n",
       "      <td>39</td>\n",
       "      <td>30</td>\n",
       "      <td>8</td>\n",
       "      <td>17</td>\n",
       "      <td>0</td>\n",
       "    </tr>\n",
       "    <tr>\n",
       "      <th>3</th>\n",
       "      <td>2</td>\n",
       "      <td>17</td>\n",
       "      <td>4</td>\n",
       "      <td>2</td>\n",
       "      <td>9</td>\n",
       "      <td>5</td>\n",
       "      <td>31</td>\n",
       "      <td>70</td>\n",
       "      <td>16</td>\n",
       "      <td>15</td>\n",
       "      <td>0</td>\n",
       "    </tr>\n",
       "    <tr>\n",
       "      <th>4</th>\n",
       "      <td>19</td>\n",
       "      <td>30</td>\n",
       "      <td>7</td>\n",
       "      <td>3</td>\n",
       "      <td>2</td>\n",
       "      <td>9</td>\n",
       "      <td>12</td>\n",
       "      <td>70</td>\n",
       "      <td>13</td>\n",
       "      <td>15</td>\n",
       "      <td>1</td>\n",
       "    </tr>\n",
       "  </tbody>\n",
       "</table>\n",
       "</div>"
      ],
      "text/plain": [
       "   T° Ambiental (°C) BRUTO  Velocidad del viento (KM/H)  T° Ambiental (°C)  \\\n",
       "0                       39                           62                 15   \n",
       "1                       16                           62                  7   \n",
       "2                       24                           18                 17   \n",
       "3                        2                           17                  4   \n",
       "4                       19                           30                  7   \n",
       "\n",
       "   Valor de tipo de suelo  PH Agua  PH Suelo  Humedad Suelo (%)  \\\n",
       "0                       1       14         3                 19   \n",
       "1                       2        9         8                 36   \n",
       "2                       1       13        10                 39   \n",
       "3                       2        9         5                 31   \n",
       "4                       3        2         9                 12   \n",
       "\n",
       "   Humedad Suelo Deseada (%)  T° Suelo (°C)  T° Suelo Deseada (°C)  \\\n",
       "0                         45             15                     15   \n",
       "1                         50              7                     23   \n",
       "2                         30              8                     17   \n",
       "3                         70             16                     15   \n",
       "4                         70             13                     15   \n",
       "\n",
       "   Análisis valor  \n",
       "0               0  \n",
       "1               1  \n",
       "2               0  \n",
       "3               0  \n",
       "4               1  "
      ]
     },
     "execution_count": 4,
     "metadata": {},
     "output_type": "execute_result"
    }
   ],
   "source": [
    "AH_data.head()"
   ]
  },
  {
   "cell_type": "code",
   "execution_count": 5,
   "metadata": {},
   "outputs": [],
   "source": [
    "#Eliminamos los datos con valores missing porque Python no puede hacer árboles con datos missing\n",
    "data_clean = AH_data.dropna()"
   ]
  },
  {
   "cell_type": "code",
   "execution_count": 6,
   "metadata": {},
   "outputs": [
    {
     "data": {
      "text/plain": [
       "T° Ambiental (°C) BRUTO        int64\n",
       "Velocidad del viento (KM/H)    int64\n",
       "T° Ambiental (°C)              int64\n",
       "Valor de tipo de suelo         int64\n",
       "PH Agua                        int64\n",
       "PH Suelo                       int64\n",
       "Humedad Suelo (%)              int64\n",
       "Humedad Suelo Deseada (%)      int64\n",
       "T° Suelo (°C)                  int64\n",
       "T° Suelo Deseada (°C)          int64\n",
       "Análisis valor                 int64\n",
       "dtype: object"
      ]
     },
     "execution_count": 6,
     "metadata": {},
     "output_type": "execute_result"
    }
   ],
   "source": [
    "#Para comprobar que se ha leído bien, podemos lista las variables en el fichero y sacar los principales estadísticos\n",
    "data_clean.dtypes"
   ]
  },
  {
   "cell_type": "code",
   "execution_count": 7,
   "metadata": {},
   "outputs": [
    {
     "data": {
      "text/html": [
       "<div>\n",
       "<table border=\"1\" class=\"dataframe\">\n",
       "  <thead>\n",
       "    <tr style=\"text-align: right;\">\n",
       "      <th></th>\n",
       "      <th>T° Ambiental (°C) BRUTO</th>\n",
       "      <th>Velocidad del viento (KM/H)</th>\n",
       "      <th>T° Ambiental (°C)</th>\n",
       "      <th>Valor de tipo de suelo</th>\n",
       "      <th>PH Agua</th>\n",
       "      <th>PH Suelo</th>\n",
       "      <th>Humedad Suelo (%)</th>\n",
       "      <th>Humedad Suelo Deseada (%)</th>\n",
       "      <th>T° Suelo (°C)</th>\n",
       "      <th>T° Suelo Deseada (°C)</th>\n",
       "      <th>Análisis valor</th>\n",
       "    </tr>\n",
       "  </thead>\n",
       "  <tbody>\n",
       "    <tr>\n",
       "      <th>count</th>\n",
       "      <td>49.000000</td>\n",
       "      <td>49.000000</td>\n",
       "      <td>49.000000</td>\n",
       "      <td>49.000000</td>\n",
       "      <td>49.000000</td>\n",
       "      <td>49.000000</td>\n",
       "      <td>49.000000</td>\n",
       "      <td>49.000000</td>\n",
       "      <td>49.000000</td>\n",
       "      <td>49.000000</td>\n",
       "      <td>49.000000</td>\n",
       "    </tr>\n",
       "    <tr>\n",
       "      <th>mean</th>\n",
       "      <td>20.265306</td>\n",
       "      <td>44.734694</td>\n",
       "      <td>13.204082</td>\n",
       "      <td>3.061224</td>\n",
       "      <td>7.061224</td>\n",
       "      <td>7.469388</td>\n",
       "      <td>22.551020</td>\n",
       "      <td>44.204082</td>\n",
       "      <td>11.510204</td>\n",
       "      <td>20.489796</td>\n",
       "      <td>0.693878</td>\n",
       "    </tr>\n",
       "    <tr>\n",
       "      <th>std</th>\n",
       "      <td>13.198446</td>\n",
       "      <td>28.591065</td>\n",
       "      <td>10.080880</td>\n",
       "      <td>1.736953</td>\n",
       "      <td>4.375158</td>\n",
       "      <td>4.163843</td>\n",
       "      <td>18.050925</td>\n",
       "      <td>15.186315</td>\n",
       "      <td>7.662469</td>\n",
       "      <td>4.402284</td>\n",
       "      <td>0.465657</td>\n",
       "    </tr>\n",
       "    <tr>\n",
       "      <th>min</th>\n",
       "      <td>0.000000</td>\n",
       "      <td>0.000000</td>\n",
       "      <td>0.000000</td>\n",
       "      <td>1.000000</td>\n",
       "      <td>0.000000</td>\n",
       "      <td>0.000000</td>\n",
       "      <td>0.000000</td>\n",
       "      <td>25.000000</td>\n",
       "      <td>0.000000</td>\n",
       "      <td>15.000000</td>\n",
       "      <td>0.000000</td>\n",
       "    </tr>\n",
       "    <tr>\n",
       "      <th>25%</th>\n",
       "      <td>10.000000</td>\n",
       "      <td>18.000000</td>\n",
       "      <td>4.000000</td>\n",
       "      <td>2.000000</td>\n",
       "      <td>3.000000</td>\n",
       "      <td>4.000000</td>\n",
       "      <td>5.000000</td>\n",
       "      <td>30.000000</td>\n",
       "      <td>5.000000</td>\n",
       "      <td>17.000000</td>\n",
       "      <td>0.000000</td>\n",
       "    </tr>\n",
       "    <tr>\n",
       "      <th>50%</th>\n",
       "      <td>22.000000</td>\n",
       "      <td>48.000000</td>\n",
       "      <td>13.000000</td>\n",
       "      <td>3.000000</td>\n",
       "      <td>7.000000</td>\n",
       "      <td>8.000000</td>\n",
       "      <td>22.000000</td>\n",
       "      <td>41.000000</td>\n",
       "      <td>10.000000</td>\n",
       "      <td>20.000000</td>\n",
       "      <td>1.000000</td>\n",
       "    </tr>\n",
       "    <tr>\n",
       "      <th>75%</th>\n",
       "      <td>33.000000</td>\n",
       "      <td>70.000000</td>\n",
       "      <td>21.000000</td>\n",
       "      <td>4.000000</td>\n",
       "      <td>11.000000</td>\n",
       "      <td>11.000000</td>\n",
       "      <td>37.000000</td>\n",
       "      <td>50.000000</td>\n",
       "      <td>18.000000</td>\n",
       "      <td>25.000000</td>\n",
       "      <td>1.000000</td>\n",
       "    </tr>\n",
       "    <tr>\n",
       "      <th>max</th>\n",
       "      <td>40.000000</td>\n",
       "      <td>88.000000</td>\n",
       "      <td>35.000000</td>\n",
       "      <td>7.000000</td>\n",
       "      <td>14.000000</td>\n",
       "      <td>14.000000</td>\n",
       "      <td>64.000000</td>\n",
       "      <td>70.000000</td>\n",
       "      <td>25.000000</td>\n",
       "      <td>27.000000</td>\n",
       "      <td>1.000000</td>\n",
       "    </tr>\n",
       "  </tbody>\n",
       "</table>\n",
       "</div>"
      ],
      "text/plain": [
       "       T° Ambiental (°C) BRUTO  Velocidad del viento (KM/H)  \\\n",
       "count                49.000000                    49.000000   \n",
       "mean                 20.265306                    44.734694   \n",
       "std                  13.198446                    28.591065   \n",
       "min                   0.000000                     0.000000   \n",
       "25%                  10.000000                    18.000000   \n",
       "50%                  22.000000                    48.000000   \n",
       "75%                  33.000000                    70.000000   \n",
       "max                  40.000000                    88.000000   \n",
       "\n",
       "       T° Ambiental (°C)  Valor de tipo de suelo    PH Agua   PH Suelo  \\\n",
       "count          49.000000               49.000000  49.000000  49.000000   \n",
       "mean           13.204082                3.061224   7.061224   7.469388   \n",
       "std            10.080880                1.736953   4.375158   4.163843   \n",
       "min             0.000000                1.000000   0.000000   0.000000   \n",
       "25%             4.000000                2.000000   3.000000   4.000000   \n",
       "50%            13.000000                3.000000   7.000000   8.000000   \n",
       "75%            21.000000                4.000000  11.000000  11.000000   \n",
       "max            35.000000                7.000000  14.000000  14.000000   \n",
       "\n",
       "       Humedad Suelo (%)  Humedad Suelo Deseada (%)  T° Suelo (°C)  \\\n",
       "count          49.000000                  49.000000      49.000000   \n",
       "mean           22.551020                  44.204082      11.510204   \n",
       "std            18.050925                  15.186315       7.662469   \n",
       "min             0.000000                  25.000000       0.000000   \n",
       "25%             5.000000                  30.000000       5.000000   \n",
       "50%            22.000000                  41.000000      10.000000   \n",
       "75%            37.000000                  50.000000      18.000000   \n",
       "max            64.000000                  70.000000      25.000000   \n",
       "\n",
       "       T° Suelo Deseada (°C)  Análisis valor  \n",
       "count              49.000000       49.000000  \n",
       "mean               20.489796        0.693878  \n",
       "std                 4.402284        0.465657  \n",
       "min                15.000000        0.000000  \n",
       "25%                17.000000        0.000000  \n",
       "50%                20.000000        1.000000  \n",
       "75%                25.000000        1.000000  \n",
       "max                27.000000        1.000000  "
      ]
     },
     "execution_count": 7,
     "metadata": {},
     "output_type": "execute_result"
    }
   ],
   "source": [
    "#Principales estadísticos\n",
    "data_clean.describe()"
   ]
  },
  {
   "cell_type": "code",
   "execution_count": 8,
   "metadata": {},
   "outputs": [
    {
     "data": {
      "text/plain": [
       "Index(['T° Ambiental (°C) BRUTO', 'Velocidad del viento (KM/H)',\n",
       "       'T° Ambiental (°C)', 'Valor de tipo de suelo', 'PH Agua', 'PH Suelo',\n",
       "       'Humedad Suelo (%)', 'Humedad Suelo Deseada (%)', 'T° Suelo (°C)',\n",
       "       'T° Suelo Deseada (°C)', 'Análisis valor'],\n",
       "      dtype='object')"
      ]
     },
     "execution_count": 8,
     "metadata": {},
     "output_type": "execute_result"
    }
   ],
   "source": [
    "data_clean.keys()"
   ]
  },
  {
   "cell_type": "code",
   "execution_count": 9,
   "metadata": {},
   "outputs": [],
   "source": [
    "#Indicamos las variables predictoras y debajo la variable objetivo. Cada uno con los nombres de las variables que tenéis en el fichero csv.\n",
    "predictors = data_clean[['T° Ambiental (°C) BRUTO', 'Velocidad del viento (KM/H)',\n",
    "       'T° Ambiental (°C)', 'Valor de tipo de suelo', 'PH Agua', 'PH Suelo',\n",
    "       'Humedad Suelo (%)', 'Humedad Suelo Deseada (%)', 'T° Suelo (°C)',\n",
    "       'T° Suelo Deseada (°C)']] "
   ]
  },
  {
   "cell_type": "code",
   "execution_count": 10,
   "metadata": {},
   "outputs": [],
   "source": [
    "targets = data_clean['Análisis valor']"
   ]
  },
  {
   "cell_type": "code",
   "execution_count": 11,
   "metadata": {},
   "outputs": [],
   "source": [
    "#Creamos la muestra de entrenamiento y de test, tanto para predictores como para la variable objetivo, siendo test el 40%\n",
    "pred_train, pred_test, tar_train, tar_test = train_test_split(predictors, targets, test_size=.4)"
   ]
  },
  {
   "cell_type": "code",
   "execution_count": 12,
   "metadata": {},
   "outputs": [],
   "source": [
    "#Importamos desde sklearn.ensamble, el algoritmo de Random Forest\n",
    "from sklearn.ensemble import RandomForestClassifier"
   ]
  },
  {
   "cell_type": "code",
   "execution_count": 13,
   "metadata": {},
   "outputs": [],
   "source": [
    "#Inicializamos el algoritmo Random Forest e indicamos el número de árboles que vamos a construir\n",
    "classifier=RandomForestClassifier(n_estimators=25)"
   ]
  },
  {
   "cell_type": "code",
   "execution_count": 14,
   "metadata": {},
   "outputs": [],
   "source": [
    "#Construimos el modelo sobre los datos de entrenamiento\n",
    "classifier=classifier.fit(pred_train,tar_train)"
   ]
  },
  {
   "cell_type": "code",
   "execution_count": 15,
   "metadata": {},
   "outputs": [],
   "source": [
    "#Predecimos para los valores del grupo Test\n",
    "predictions=classifier.predict(pred_test)"
   ]
  },
  {
   "cell_type": "code",
   "execution_count": 16,
   "metadata": {},
   "outputs": [
    {
     "data": {
      "text/plain": [
       "array([[ 2,  3],\n",
       "       [ 2, 13]])"
      ]
     },
     "execution_count": 16,
     "metadata": {},
     "output_type": "execute_result"
    }
   ],
   "source": [
    "#Pedimos la matriz de confusión de las predicciones del grupo Test. La diagonal de esta matriz se lee: arriba a la izda True Negatives y abajo a la dcha True Positives. \n",
    "sklearn.metrics.confusion_matrix(tar_test,predictions)"
   ]
  },
  {
   "cell_type": "code",
   "execution_count": 17,
   "metadata": {},
   "outputs": [
    {
     "data": {
      "text/plain": [
       "0.75"
      ]
     },
     "execution_count": 17,
     "metadata": {},
     "output_type": "execute_result"
    }
   ],
   "source": [
    "#Sacamos el índice Accuracy Score, que resume la Matriz de Confusión y la cantidad de aciertos.\n",
    "sklearn.metrics.accuracy_score(tar_test, predictions)"
   ]
  },
  {
   "cell_type": "code",
   "execution_count": 18,
   "metadata": {},
   "outputs": [],
   "source": [
    "#Para obtener la importancia de cada variable inicializamos el  ExtraTreesClassifier\n",
    "model = ExtraTreesClassifier()"
   ]
  },
  {
   "cell_type": "code",
   "execution_count": 19,
   "metadata": {},
   "outputs": [
    {
     "data": {
      "text/plain": [
       "ExtraTreesClassifier(bootstrap=False, class_weight=None, criterion='gini',\n",
       "           max_depth=None, max_features='auto', max_leaf_nodes=None,\n",
       "           min_impurity_split=1e-07, min_samples_leaf=1,\n",
       "           min_samples_split=2, min_weight_fraction_leaf=0.0,\n",
       "           n_estimators=10, n_jobs=1, oob_score=False, random_state=None,\n",
       "           verbose=0, warm_start=False)"
      ]
     },
     "execution_count": 19,
     "metadata": {},
     "output_type": "execute_result"
    }
   ],
   "source": [
    "#Ajustamos el modelo\n",
    "model.fit(pred_train,tar_train)"
   ]
  },
  {
   "cell_type": "code",
   "execution_count": 20,
   "metadata": {},
   "outputs": [
    {
     "name": "stdout",
     "output_type": "stream",
     "text": [
      "[ 0.04327193  0.06221931  0.03854268  0.06078912  0.20705618  0.04974402\n",
      "  0.16503082  0.13042511  0.08785479  0.15506604]\n"
     ]
    }
   ],
   "source": [
    "#Pedimos que nos muestre la importancia de cada variable\n",
    "print(model.feature_importances_)"
   ]
  },
  {
   "cell_type": "code",
   "execution_count": 21,
   "metadata": {},
   "outputs": [
    {
     "data": {
      "text/plain": [
       "[0.043271929824561406,\n",
       " 0.062219308535168862,\n",
       " 0.038542680229986727,\n",
       " 0.060789122281227556,\n",
       " 0.2070561750092465,\n",
       " 0.049744019138755986,\n",
       " 0.16503081980210871,\n",
       " 0.13042511343071311,\n",
       " 0.087854791235596169,\n",
       " 0.15506604051263492]"
      ]
     },
     "execution_count": 21,
     "metadata": {},
     "output_type": "execute_result"
    }
   ],
   "source": [
    "#Si queremos ver todas las variables en caso de ser muchas, mejor usar el comando “list”\n",
    "list(model.feature_importances_)"
   ]
  },
  {
   "cell_type": "code",
   "execution_count": 56,
   "metadata": {},
   "outputs": [
    {
     "name": "stdout",
     "output_type": "stream",
     "text": [
      "T° Ambiental (°C) BRUTO --> T\n",
      "Velocidad del viento (KM/H) --> (KM/H)\n",
      "T° Ambiental (°C) --> TA\n",
      "Valor de tipo de suelo --> TS\n",
      "PH Agua --> PH A\n",
      "PH Suelo --> PH S\n",
      "Humedad Suelo (%) --> HS\n",
      "Humedad Suelo Deseada (%) --> HSD\n",
      "T° Suelo (°C) --> TS\n",
      "T° Suelo Deseada (°C) --> TSD\n",
      "\n"
     ]
    },
    {
     "data": {
      "image/png": "[encoded data removed]",
      "text/plain": [
       "<Figure size 432x288 with 1 Axes>"
      ]
     },
     "metadata": {},
     "output_type": "display_data"
    }
   ],
   "source": [
    "#Para dibujar todos las variables con su importancia\n",
    "print('T° Ambiental (°C) BRUTO', \"--> T\\n\"\n",
    "      'Velocidad del viento (KM/H)',\"--> (KM/H)\\n\"\n",
    "      'T° Ambiental (°C)',\"--> TA\\n\"\n",
    "      'Valor de tipo de suelo',\"--> TS\\n\"\n",
    "      'PH Agua',\"--> PH A\\n\"\n",
    "      'PH Suelo',\"--> PH S\\n\"\n",
    "       'Humedad Suelo (%)',\"--> HS\\n\"\n",
    "      'Humedad Suelo Deseada (%)',\"--> HSD\\n\" \n",
    "      'T° Suelo (°C)',\"--> TS\\n\"\n",
    "       'T° Suelo Deseada (°C)',\"--> TSD\\n\")\n",
    "from matplotlib import pyplot\n",
    "pyplot.bar(range(len(model.feature_importances_)), model.feature_importances_)\n",
    "plt.ylabel('% importancia')\n",
    "plt.xlabel('Variabe')\n",
    "plt.xticks(np.arange(10), ('T', '(KM/H)',\n",
    "       'TA', 'TS', 'PH A', 'PH S',\n",
    "       'HS', 'HSD', 'TS',\n",
    "       'TS SD'))\n",
    "pyplot.show()\n"
   ]
  },
  {
   "cell_type": "code",
   "execution_count": 30,
   "metadata": {},
   "outputs": [
    {
     "data": {
      "text/plain": [
       "Text(0.5,0,'N° de arboles')"
      ]
     },
     "execution_count": 30,
     "metadata": {},
     "output_type": "execute_result"
    },
    {
     "data": {
      "image/png": "[encoded data removed]",
      "text/plain": [
       "<Figure size 432x288 with 1 Axes>"
      ]
     },
     "metadata": {},
     "output_type": "display_data"
    }
   ],
   "source": [
    "#Para ver cuánto ha aportado cada nuevo árbol que hemos construido\n",
    "\n",
    "trees=range(25)\n",
    "accuracy=np.zeros(25)\n",
    "\n",
    "for idx in range(len(trees)):\n",
    "    classifier=RandomForestClassifier(n_estimators=idx + 1)\n",
    "    classifier=classifier.fit(pred_train,tar_train)\n",
    "    predictions=classifier.predict(pred_test)\n",
    "    accuracy[idx]=sklearn.metrics.accuracy_score(tar_test, predictions)\n",
    "\n",
    "plt.cla()\n",
    "plt.plot(trees, accuracy)\n",
    "plt.ylabel('% de efectividad')\n",
    "plt.xlabel('N° de arboles')"
   ]
  },
  {
   "cell_type": "code",
   "execution_count": null,
   "metadata": {},
   "outputs": [],
   "source": []
  }
 ],
 "metadata": {
  "kernelspec": {
   "display_name": "Python 3",
   "language": "python",
   "name": "python3"
  },
  "language_info": {
   "codemirror_mode": {
    "name": "ipython",
    "version": 3
   },
   "file_extension": ".py",
   "mimetype": "text/x-python",
   "name": "python",
   "nbconvert_exporter": "python",
   "pygments_lexer": "ipython3",
   "version": "3.6.5"
  }
 },
 "nbformat": 4,
 "nbformat_minor": 2
}
